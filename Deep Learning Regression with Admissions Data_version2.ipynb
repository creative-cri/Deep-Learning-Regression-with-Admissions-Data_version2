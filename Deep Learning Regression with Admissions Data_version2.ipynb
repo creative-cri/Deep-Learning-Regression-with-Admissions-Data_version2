{
 "cells": [
  {
   "cell_type": "markdown",
   "id": "907e033f",
   "metadata": {},
   "source": [
    "# Deep Learning Regression with Admissions Data_version2"
   ]
  },
  {
   "cell_type": "code",
   "execution_count": 4,
   "id": "e9125661",
   "metadata": {},
   "outputs": [
    {
     "name": "stdout",
     "output_type": "stream",
     "text": [
      "   GRE Score  TOEFL Score  University Rating  SOP  LOR   CGPA  Research\n",
      "0        337          118                  4  4.5   4.5  9.65         1\n",
      "1        324          107                  4  4.0   4.5  8.87         1\n",
      "2        316          104                  3  3.0   3.5  8.00         1\n",
      "3        322          110                  3  3.5   2.5  8.67         1\n",
      "4        314          103                  2  2.0   3.0  8.21         0\n",
      "Train on 360 samples, validate on 90 samples\n",
      "Epoch 1/40\n",
      "360/360 [==============================] - 0s 408us/sample - loss: 1.3109 - mean_absolute_error: 0.9670 - val_loss: 0.1732 - val_mean_absolute_error: 0.3241\n",
      "Epoch 2/40\n",
      "360/360 [==============================] - 0s 14us/sample - loss: 0.3402 - mean_absolute_error: 0.4648 - val_loss: 0.0598 - val_mean_absolute_error: 0.1976\n",
      "Epoch 3/40\n",
      "360/360 [==============================] - 0s 20us/sample - loss: 0.1062 - mean_absolute_error: 0.2558 - val_loss: 0.0435 - val_mean_absolute_error: 0.1879\n",
      "Epoch 4/40\n",
      "360/360 [==============================] - 0s 22us/sample - loss: 0.0474 - mean_absolute_error: 0.1870 - val_loss: 0.0644 - val_mean_absolute_error: 0.2365\n",
      "Epoch 5/40\n",
      "360/360 [==============================] - 0s 19us/sample - loss: 0.0589 - mean_absolute_error: 0.2178 - val_loss: 0.0539 - val_mean_absolute_error: 0.2157\n",
      "Epoch 6/40\n",
      "360/360 [==============================] - 0s 22us/sample - loss: 0.0464 - mean_absolute_error: 0.1921 - val_loss: 0.0319 - val_mean_absolute_error: 0.1590\n",
      "Epoch 7/40\n",
      "360/360 [==============================] - 0s 17us/sample - loss: 0.0275 - mean_absolute_error: 0.1407 - val_loss: 0.0203 - val_mean_absolute_error: 0.1103\n",
      "Epoch 8/40\n",
      "360/360 [==============================] - 0s 17us/sample - loss: 0.0197 - mean_absolute_error: 0.1091 - val_loss: 0.0175 - val_mean_absolute_error: 0.0924\n",
      "Epoch 9/40\n",
      "360/360 [==============================] - 0s 17us/sample - loss: 0.0187 - mean_absolute_error: 0.1011 - val_loss: 0.0139 - val_mean_absolute_error: 0.0836\n",
      "Epoch 10/40\n",
      "360/360 [==============================] - 0s 19us/sample - loss: 0.0154 - mean_absolute_error: 0.0915 - val_loss: 0.0124 - val_mean_absolute_error: 0.0879\n",
      "Epoch 11/40\n",
      "360/360 [==============================] - 0s 17us/sample - loss: 0.0135 - mean_absolute_error: 0.0931 - val_loss: 0.0150 - val_mean_absolute_error: 0.1002\n",
      "Epoch 12/40\n",
      "360/360 [==============================] - 0s 19us/sample - loss: 0.0150 - mean_absolute_error: 0.1013 - val_loss: 0.0144 - val_mean_absolute_error: 0.0972\n",
      "Epoch 13/40\n",
      "360/360 [==============================] - 0s 17us/sample - loss: 0.0141 - mean_absolute_error: 0.0959 - val_loss: 0.0118 - val_mean_absolute_error: 0.0807\n",
      "Epoch 14/40\n",
      "360/360 [==============================] - 0s 17us/sample - loss: 0.0131 - mean_absolute_error: 0.0840 - val_loss: 0.0116 - val_mean_absolute_error: 0.0746\n",
      "Epoch 15/40\n",
      "360/360 [==============================] - 0s 17us/sample - loss: 0.0129 - mean_absolute_error: 0.0831 - val_loss: 0.0103 - val_mean_absolute_error: 0.0709\n",
      "Epoch 16/40\n",
      "360/360 [==============================] - 0s 17us/sample - loss: 0.0119 - mean_absolute_error: 0.0807 - val_loss: 0.0096 - val_mean_absolute_error: 0.0739\n",
      "Epoch 17/40\n",
      "360/360 [==============================] - 0s 17us/sample - loss: 0.0110 - mean_absolute_error: 0.0818 - val_loss: 0.0105 - val_mean_absolute_error: 0.0846\n",
      "Epoch 18/40\n",
      "360/360 [==============================] - 0s 19us/sample - loss: 0.0112 - mean_absolute_error: 0.0848 - val_loss: 0.0081 - val_mean_absolute_error: 0.0713\n",
      "Epoch 19/40\n",
      "360/360 [==============================] - 0s 14us/sample - loss: 0.0099 - mean_absolute_error: 0.0789 - val_loss: 0.0069 - val_mean_absolute_error: 0.0626\n",
      "Epoch 20/40\n",
      "360/360 [==============================] - 0s 17us/sample - loss: 0.0099 - mean_absolute_error: 0.0770 - val_loss: 0.0065 - val_mean_absolute_error: 0.0604\n",
      "Epoch 21/40\n",
      "360/360 [==============================] - 0s 11us/sample - loss: 0.0097 - mean_absolute_error: 0.0779 - val_loss: 0.0068 - val_mean_absolute_error: 0.0667\n",
      "Epoch 22/40\n",
      "360/360 [==============================] - 0s 19us/sample - loss: 0.0088 - mean_absolute_error: 0.0736 - val_loss: 0.0072 - val_mean_absolute_error: 0.0703\n",
      "Epoch 23/40\n",
      "360/360 [==============================] - 0s 14us/sample - loss: 0.0078 - mean_absolute_error: 0.0689 - val_loss: 0.0064 - val_mean_absolute_error: 0.0612\n",
      "Epoch 24/40\n",
      "360/360 [==============================] - 0s 17us/sample - loss: 0.0077 - mean_absolute_error: 0.0662 - val_loss: 0.0063 - val_mean_absolute_error: 0.0577\n",
      "Epoch 25/40\n",
      "360/360 [==============================] - 0s 19us/sample - loss: 0.0084 - mean_absolute_error: 0.0692 - val_loss: 0.0059 - val_mean_absolute_error: 0.0585\n",
      "Epoch 26/40\n",
      "360/360 [==============================] - 0s 17us/sample - loss: 0.0076 - mean_absolute_error: 0.0659 - val_loss: 0.0057 - val_mean_absolute_error: 0.0611\n",
      "Epoch 27/40\n",
      "360/360 [==============================] - 0s 19us/sample - loss: 0.0077 - mean_absolute_error: 0.0670 - val_loss: 0.0051 - val_mean_absolute_error: 0.0576\n",
      "Epoch 28/40\n",
      "360/360 [==============================] - 0s 17us/sample - loss: 0.0069 - mean_absolute_error: 0.0647 - val_loss: 0.0046 - val_mean_absolute_error: 0.0516\n",
      "Epoch 29/40\n",
      "360/360 [==============================] - 0s 17us/sample - loss: 0.0075 - mean_absolute_error: 0.0667 - val_loss: 0.0046 - val_mean_absolute_error: 0.0504\n",
      "Epoch 30/40\n",
      "360/360 [==============================] - 0s 17us/sample - loss: 0.0072 - mean_absolute_error: 0.0646 - val_loss: 0.0045 - val_mean_absolute_error: 0.0527\n",
      "Epoch 31/40\n",
      "360/360 [==============================] - 0s 19us/sample - loss: 0.0069 - mean_absolute_error: 0.0649 - val_loss: 0.0046 - val_mean_absolute_error: 0.0527\n",
      "Epoch 32/40\n",
      "360/360 [==============================] - 0s 17us/sample - loss: 0.0070 - mean_absolute_error: 0.0625 - val_loss: 0.0049 - val_mean_absolute_error: 0.0515\n",
      "Epoch 33/40\n",
      "360/360 [==============================] - 0s 19us/sample - loss: 0.0074 - mean_absolute_error: 0.0630 - val_loss: 0.0048 - val_mean_absolute_error: 0.0533\n",
      "Epoch 34/40\n",
      "360/360 [==============================] - 0s 17us/sample - loss: 0.0074 - mean_absolute_error: 0.0643 - val_loss: 0.0046 - val_mean_absolute_error: 0.0529\n",
      "Epoch 35/40\n",
      "360/360 [==============================] - 0s 14us/sample - loss: 0.0067 - mean_absolute_error: 0.0605 - val_loss: 0.0046 - val_mean_absolute_error: 0.0493\n",
      "Epoch 36/40\n",
      "360/360 [==============================] - 0s 19us/sample - loss: 0.0067 - mean_absolute_error: 0.0601 - val_loss: 0.0044 - val_mean_absolute_error: 0.0494\n",
      "Epoch 37/40\n",
      "360/360 [==============================] - 0s 19us/sample - loss: 0.0070 - mean_absolute_error: 0.0617 - val_loss: 0.0045 - val_mean_absolute_error: 0.0525\n",
      "Epoch 38/40\n",
      "360/360 [==============================] - 0s 17us/sample - loss: 0.0068 - mean_absolute_error: 0.0621 - val_loss: 0.0043 - val_mean_absolute_error: 0.0487\n",
      "Epoch 39/40\n",
      "360/360 [==============================] - 0s 22us/sample - loss: 0.0068 - mean_absolute_error: 0.0601 - val_loss: 0.0044 - val_mean_absolute_error: 0.0480\n",
      "Epoch 40/40\n",
      "360/360 [==============================] - 0s 17us/sample - loss: 0.0064 - mean_absolute_error: 0.0588 - val_loss: 0.0042 - val_mean_absolute_error: 0.0490\n",
      "50/50 [==============================] - 0s 80us/sample - loss: 0.0034 - mean_absolute_error: 0.0443\n"
     ]
    }
   ],
   "source": [
    "import pandas as pd\n",
    "import numpy as np\n",
    "import matplotlib.pyplot as plt\n",
    "\n",
    "import tensorflow as tf\n",
    "from tensorflow\timport keras\n",
    "from tensorflow.keras.models import Sequential\n",
    "from tensorflow.keras.callbacks import EarlyStopping\n",
    "from tensorflow.keras import layers\n",
    "\n",
    "from sklearn.model_selection import train_test_split\n",
    "from sklearn.preprocessing import StandardScaler\n",
    "from sklearn.preprocessing import Normalizer\n",
    "from sklearn.metrics import r2_score\n",
    "\n",
    "\n",
    "df = pd.read_csv('admissions_data.csv')\n",
    "\n",
    "features = df.iloc[:,1:-1]\n",
    "labels = df.iloc[:,-1]\n",
    "print(features.head())\n",
    "\n",
    "features_train, features_test, labels_train, labels_test = train_test_split(features, labels, test_size=0.1)\n",
    "\n",
    "scaler = StandardScaler()\n",
    "features_train = scaler.fit_transform(features_train)\n",
    "features_test = scaler.transform(features_test)\n",
    "\n",
    "\n",
    "\n",
    "model = Sequential([\n",
    "layers.InputLayer(input_shape=(features_train.shape[1],)),\n",
    "layers.Dense(6, activation='relu'),\n",
    "layers.Dropout(0.2),\n",
    "layers.Dense(6, activation='relu'),\n",
    "layers.Dense(1),\n",
    "])\n",
    "\n",
    "opt = keras.optimizers.Adam(learning_rate = 0.1)\n",
    "model.compile(loss='mse', metrics=['mae'], optimizer=opt)\n",
    "\n",
    "history = model.fit(features_train, labels_train, epochs=40, batch_size=250, verbose=1, validation_split=0.2)\n",
    "res_mse, res_mae = model.evaluate(features_test, labels_test)"
   ]
  },
  {
   "cell_type": "code",
   "execution_count": 5,
   "id": "9221bab7",
   "metadata": {},
   "outputs": [
    {
     "name": "stdout",
     "output_type": "stream",
     "text": [
      "dict_keys(['loss', 'mean_absolute_error', 'val_loss', 'val_mean_absolute_error'])\n"
     ]
    },
    {
     "data": {
      "image/png": "[encoded data removed]",
      "text/plain": [
       "<Figure size 432x288 with 1 Axes>"
      ]
     },
     "metadata": {
      "needs_background": "light"
     },
     "output_type": "display_data"
    },
    {
     "data": {
      "image/png": "[encoded data removed]",
      "text/plain": [
       "<Figure size 432x288 with 1 Axes>"
      ]
     },
     "metadata": {
      "needs_background": "light"
     },
     "output_type": "display_data"
    }
   ],
   "source": [
    "print(history.history.keys())\n",
    "\n",
    "plt.plot(history.history['mean_absolute_error'])\n",
    "plt.plot(history.history['val_mean_absolute_error'])\n",
    "plt.title('model mae')\n",
    "plt.ylabel('mae')\n",
    "plt.xlabel('epoch')\n",
    "plt.legend(['train', 'test'], loc='upper left')\n",
    "plt.show()\n",
    "\n",
    "plt.plot(history.history['loss'])\n",
    "plt.plot(history.history['val_loss'])\n",
    "plt.title('model loss')\n",
    "plt.ylabel('loss')\n",
    "plt.xlabel('epoch')\n",
    "plt.legend(['train', 'test'], loc='upper left')\n",
    "plt.show()"
   ]
  }
 ],
 "metadata": {
  "kernelspec": {
   "display_name": "Python 3 (ipykernel)",
   "language": "python",
   "name": "python3"
  },
  "language_info": {
   "codemirror_mode": {
    "name": "ipython",
    "version": 3
   },
   "file_extension": ".py",
   "mimetype": "text/x-python",
   "name": "python",
   "nbconvert_exporter": "python",
   "pygments_lexer": "ipython3",
   "version": "3.7.13"
  }
 },
 "nbformat": 4,
 "nbformat_minor": 5
}
